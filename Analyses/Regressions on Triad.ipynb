{
 "cells": [
  {
   "cell_type": "code",
   "execution_count": 65,
   "metadata": {},
   "outputs": [],
   "source": [
    "import pickle\n",
    "import pandas as pd\n",
    "import numpy as np\n",
    "import statsmodels.api as sm"
   ]
  },
  {
   "cell_type": "code",
   "execution_count": 66,
   "metadata": {},
   "outputs": [],
   "source": [
    "# Load the dictionary from the file\n",
    "with open('../Intermediate Data/belongings_by_year.pkl', 'rb') as f:\n",
    "    belongings_by_year = pickle.load(f)\n",
    "\n",
    "# Load in Financial Data\n",
    "financial_data = pd.read_csv(\"../Financial Data/CompustatCRSP_Annual.csv\")\n",
    "financial_data.rename(columns={\"fyear\" : \"year\"}, inplace=True)\n",
    "financial_data = financial_data[['year','bkvlps', 'epspx', 'cik']]\n"
   ]
  },
  {
   "cell_type": "code",
   "execution_count": 67,
   "metadata": {},
   "outputs": [],
   "source": [
    "triadic_data = []\n",
    "for year, companies in belongings_by_year.items():\n",
    "    for cik, motifs in companies.items():\n",
    "        motifs['year'] = float(year)\n",
    "        motifs['cik'] = cik\n",
    "        triadic_data.append(motifs)\n",
    "\n",
    "triadic_df = pd.DataFrame(triadic_data)\n",
    "\n",
    "# Merge the financial data with the triadic data\n",
    "merged_df = pd.merge(financial_data, triadic_df, on=['cik', 'year'])\n",
    "\n",
    "TRIAD_NAMES = [\"003\", \"012\", \"102\", \"021D\", \"021U\", \"021C\", \"111D\", \"111U\", \"030T\", \"030C\", \"201\", \"120D\", \"120U\", \"120C\", \"210\", \"300\"]\n",
    "rename_dict = {name: f\"motif_{name}\" for name in TRIAD_NAMES}\n",
    "merged_df.rename(columns=rename_dict, inplace=True)\n",
    "merged_df.to_csv(\"../Intermediate Data/no_dummies_financial_triad_merged.csv\")\n",
    "\n",
    "# Create dummy variables for years and motifs\n",
    "merged_df = pd.get_dummies(merged_df, columns=[\"year\"], dtype=float, drop_first=True)\n",
    "\n",
    "merged_df.to_csv(\"../Intermediate Data/financial_triad_merged.csv\")"
   ]
  },
  {
   "cell_type": "code",
   "execution_count": 68,
   "metadata": {},
   "outputs": [],
   "source": [
    "\n",
    "# Define the independent variables\n",
    "X = merged_df.drop(columns=['bkvlps', 'epspx', 'cik'])\n",
    "X = sm.add_constant(X)  # Add a constant term to the model\n",
    "\n",
    "# Dependent variable: bkvlps\n",
    "y_bkvlps = merged_df['bkvlps']\n",
    "\n",
    "# Run the regression for bkvlps\n",
    "model_bkvlps = sm.OLS(y_bkvlps, X, missing='drop').fit()\n",
    "#print(model_bkvlps.summary())\n",
    "\n",
    "# Dependent variable: epspx\n",
    "y_epspx = merged_df['epspx']\n",
    "\n",
    "# Run the regression for epspx\n",
    "model_epspx = sm.OLS(y_epspx, X, missing='drop').fit()\n",
    "#print(model_epspx.summary())"
   ]
  },
  {
   "cell_type": "code",
   "execution_count": 69,
   "metadata": {},
   "outputs": [],
   "source": [
    "from docx import Document\n",
    "from docx.shared import Pt\n",
    "\n",
    "def regression_to_word(models, model_names, file_name):\n",
    "    doc = Document()\n",
    "    \n",
    "    for model, name in zip(models, model_names):\n",
    "        doc.add_heading(f'Regression Results for {name}', level=1)\n",
    "        doc.add_paragraph(model.summary().as_text())\n",
    "    \n",
    "    doc.save(file_name)\n",
    "\n",
    "# Assuming model_bkvlps and model_epspx are your regression models\n",
    "models = [model_bkvlps, model_epspx]\n",
    "model_names = ['bkvlps', 'epspx']\n",
    "\n",
    "# Output the results to a Word document\n",
    "regression_to_word(models, model_names, '../Outputs/regression_results.docx')"
   ]
  },
  {
   "cell_type": "code",
   "execution_count": null,
   "metadata": {},
   "outputs": [],
   "source": []
  }
 ],
 "metadata": {
  "kernelspec": {
   "display_name": "Python 3",
   "language": "python",
   "name": "python3"
  },
  "language_info": {
   "codemirror_mode": {
    "name": "ipython",
    "version": 3
   },
   "file_extension": ".py",
   "mimetype": "text/x-python",
   "name": "python",
   "nbconvert_exporter": "python",
   "pygments_lexer": "ipython3",
   "version": "3.12.3"
  }
 },
 "nbformat": 4,
 "nbformat_minor": 2
}
